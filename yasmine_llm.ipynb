{
  "cells": [
    {
      "cell_type": "markdown",
      "metadata": {
        "id": "view-in-github",
        "colab_type": "text"
      },
      "source": [
        "<a href=\"https://colab.research.google.com/github/YasmineSAYAD/chatbot/blob/main/yasmine_llm.ipynb\" target=\"_parent\"><img src=\"https://colab.research.google.com/assets/colab-badge.svg\" alt=\"Open In Colab\"/></a>"
      ]
    },
    {
      "cell_type": "code",
      "execution_count": null,
      "metadata": {
        "id": "PPsui1aJtLb7"
      },
      "outputs": [],
      "source": [
        "%pip install -U langchain-community"
      ]
    },
    {
      "cell_type": "code",
      "execution_count": null,
      "metadata": {
        "id": "wlnyMawQ_umT"
      },
      "outputs": [],
      "source": [
        "%pip install faiss-cpu"
      ]
    },
    {
      "cell_type": "code",
      "execution_count": null,
      "metadata": {
        "id": "PSiVQlaWnbH8"
      },
      "outputs": [],
      "source": [
        "from huggingface_hub import snapshot_download\n",
        "from pathlib import Path\n",
        "from huggingface_hub import login\n",
        "from transformers import AutoModelForCausalLM, AutoTokenizer\n",
        "import torch\n",
        "from transformers import pipeline\n",
        "import pandas as pd\n",
        "from datasets import Dataset\n",
        "from langchain.docstore.document import Document\n",
        "from langchain_community.embeddings import HuggingFaceEmbeddings\n",
        "from langchain_community.llms import HuggingFacePipeline\n",
        "from langchain.vectorstores import FAISS\n",
        "from langchain.chains import RetrievalQA\n",
        "from peft import get_peft_model, LoraConfig, TaskType\n",
        "from google.colab import drive"
      ]
    },
    {
      "cell_type": "code",
      "execution_count": null,
      "metadata": {
        "id": "hqMmlhT_oqVg"
      },
      "outputs": [],
      "source": [
        "#Logging to hagging face\n",
        "login()"
      ]
    },
    {
      "cell_type": "code",
      "execution_count": null,
      "metadata": {
        "id": "ewj3GAvWGRx4"
      },
      "outputs": [],
      "source": [
        "#drive.mount(\"/content/drive\")"
      ]
    },
    {
      "cell_type": "code",
      "execution_count": null,
      "metadata": {
        "id": "ckq0Q99TneNA"
      },
      "outputs": [],
      "source": [
        "'''\n",
        "#download mistral\n",
        "snapshot_download(\n",
        "    repo_id=\"mistralai/Mistral-7B-Instruct-v0.3\",\n",
        "    allow_patterns=[\"params.json\", \"consolidated.safetensors\", \"tokenizer.model.v3\"],\n",
        "    local_dir=\"mistral_models/7B-Instruct-v0.3\"\n",
        ")\n",
        "'''"
      ]
    },
    {
      "cell_type": "code",
      "execution_count": null,
      "metadata": {
        "id": "ff83vltgwFWL"
      },
      "outputs": [],
      "source": [
        "model_id = \"mistralai/Mistral-7B-Instruct-v0.3\"\n",
        "#load tokenizer\n",
        "tokenizer = AutoTokenizer.from_pretrained(model_id)\n",
        "#load the model\n",
        "model = AutoModelForCausalLM.from_pretrained(\n",
        "    model_id,\n",
        "    device_map=\"auto\",\n",
        "    dtype=torch.float16\n",
        ")"
      ]
    },
    {
      "cell_type": "code",
      "execution_count": null,
      "metadata": {
        "id": "hPUo2vuLwFlh"
      },
      "outputs": [],
      "source": [
        "# lora config for optimization\n",
        "lora_config = LoraConfig(\n",
        "    r=16,\n",
        "    lora_alpha=16,\n",
        "    target_modules=[\"q_proj\", \"v_proj\"],# q_proj: Projects queries (what the model seeks to understand)/ v_proj: projects the values (what the model uses to respond)\n",
        "    lora_dropout=0.01,\n",
        "    bias=\"none\",\n",
        "    task_type=TaskType.CAUSAL_LM # CAUSAL_LM: autoregressive text generation\n",
        ")\n",
        "\n",
        "model = get_peft_model(model, lora_config)"
      ]
    },
    {
      "cell_type": "code",
      "execution_count": null,
      "metadata": {
        "id": "j6V1Yga8yqNr"
      },
      "outputs": [],
      "source": [
        "'''\n",
        "# test prompt\n",
        "chatbot = pipeline(\"text-generation\", model=model, tokenizer=tokenizer)\n",
        "prompt = \"Quelle est la capitale de la France\"\n",
        "response = chatbot(prompt, max_new_tokens=30, do_sample=False)\n",
        "print(response[0][\"generated_text\"])\n",
        "'''"
      ]
    },
    {
      "cell_type": "code",
      "execution_count": null,
      "metadata": {
        "id": "-X-cHYv7Z3wx"
      },
      "outputs": [],
      "source": [
        "#Read csv file\n",
        "file_id = \"1vZP_cQWo_sUlcdXpTPu6IixWtd9qJsp1\"\n",
        "url = f\"https://drive.google.com/uc?id={file_id}\"\n",
        "df_train_base = pd.read_csv(url)"
      ]
    },
    {
      "cell_type": "code",
      "execution_count": null,
      "metadata": {
        "id": "oXh6zCjogLuC"
      },
      "outputs": [],
      "source": [
        "print(df_train_base.columns.tolist())"
      ]
    },
    {
      "cell_type": "code",
      "execution_count": null,
      "metadata": {
        "id": "Zqr2R807lSdF"
      },
      "outputs": [],
      "source": [
        "from langchain.text_splitter import RecursiveCharacterTextSplitter\n",
        "\n",
        "splitter = RecursiveCharacterTextSplitter(\n",
        "    chunk_size=2095,\n",
        "    chunk_overlap=200\n",
        ")"
      ]
    },
    {
      "cell_type": "code",
      "execution_count": null,
      "metadata": {
        "id": "4S8CeN7aYnhG"
      },
      "outputs": [],
      "source": [
        "#create documents from df CSV file,\n",
        "documents = []\n",
        "\n",
        "for _, row in df_train_base.iterrows():\n",
        "    # Cut the response into chunks compatible with the model\n",
        "    chunks = splitter.split_text(row[\"answer\"])      # The text to be indexed (response)\n",
        "\n",
        "    for chunk in chunks:\n",
        "        documents.append(\n",
        "            Document(\n",
        "                page_content=chunk,\n",
        "                metadata={\n",
        "                    \"index\": row[\"index\"],\n",
        "                    \"question\": row[\"question\"],\n",
        "                    \"authors\": row[\"authors\"],\n",
        "                    \"title\": row[\"title\"],\n",
        "                    \"doi\": row[\"doi\"],\n",
        "                    \"journal\": row[\"journal\"],\n",
        "                    \"volume\": row[\"volume\"],\n",
        "                    \"pages\": row[\"pages\"],\n",
        "                    \"license\": row[\"license\"]\n",
        "                }\n",
        "            )\n",
        "        )"
      ]
    },
    {
      "cell_type": "code",
      "execution_count": null,
      "metadata": {
        "id": "8_rwrpKwskF8"
      },
      "outputs": [],
      "source": [
        "# generate embedding to transform output to a vector\n",
        "embedding_model = HuggingFaceEmbeddings(model_name=\"sentence-transformers/all-MiniLM-L6-v2\")\n",
        "db = FAISS.from_documents(documents, embedding_model)"
      ]
    },
    {
      "cell_type": "code",
      "execution_count": null,
      "metadata": {
        "id": "qKc_gtZNxXa7"
      },
      "outputs": [],
      "source": [
        "# Creating a text generation pipeline with Hugging Face\n",
        "pipe = pipeline(\n",
        "    \"text-generation\",\n",
        "    model=model,\n",
        "    tokenizer=tokenizer,\n",
        "    max_new_tokens=100,\n",
        "    do_sample=False\n",
        ")"
      ]
    },
    {
      "cell_type": "code",
      "execution_count": null,
      "metadata": {
        "id": "2YvIBX1ZRMyt"
      },
      "outputs": [],
      "source": [
        "# Encapsulating the pipeline in a compatible LangChain object\n",
        "llm = HuggingFacePipeline(pipeline=pipe)"
      ]
    },
    {
      "cell_type": "code",
      "execution_count": null,
      "metadata": {
        "id": "2IdoCld-BKcx"
      },
      "outputs": [],
      "source": [
        "# Creation of a QA string that only responds if the similarity exceeds 0.7\n",
        "retriever = db.as_retriever(\n",
        "    search_type=\"similarity_score_threshold\",\n",
        "    search_kwargs={\n",
        "        \"score_threshold\": 0.3\n",
        "    }\n",
        ")\n",
        "qa_chain = RetrievalQA.from_chain_type(\n",
        "    llm=llm,\n",
        "    retriever= retriever,\n",
        "    chain_type=\"map_reduce\"\n",
        ")"
      ]
    },
    {
      "cell_type": "code",
      "execution_count": null,
      "metadata": {
        "id": "yGUXg9EZS4rl"
      },
      "outputs": [],
      "source": [
        "# response generation function\n",
        "def generate_response(query):\n",
        "    docs = retriever.get_relevant_documents(query)\n",
        "    if not docs:\n",
        "        return \"Je ne suis pas certain de pouvoir répondre à cette question pour le moment.\"\n",
        "    else:\n",
        "        return qa_chain.invoke(query)"
      ]
    },
    {
      "cell_type": "code",
      "execution_count": null,
      "metadata": {
        "id": "FezItAgnB7JP"
      },
      "outputs": [],
      "source": [
        "from IPython.display import display\n",
        "import ipywidgets as widgets\n",
        "\n",
        "# input\n",
        "prompt_input = widgets.Text(\n",
        "    value='',\n",
        "    placeholder='Écris ton prompt ici...',\n",
        "    layout=widgets.Layout(width='80%')\n",
        ")\n",
        "\n",
        "# button\n",
        "send_button = widgets.Button(\n",
        "    description='Envoyer',\n",
        "    button_style='success',\n",
        "    layout=widgets.Layout(margin='5px 0 0 0')\n",
        ")\n",
        "\n",
        "# output area\n",
        "output_area = widgets.Output()\n",
        "\n",
        "# generate response function\n",
        "def on_send_clicked(b):\n",
        "    output_area.clear_output()\n",
        "    with output_area:\n",
        "        response = generate_response(prompt_input.value)\n",
        "        print(response)\n",
        "\n",
        "# bouton action\n",
        "send_button.on_click(on_send_clicked)\n",
        "\n",
        "# display widgets\n",
        "display(prompt_input, send_button, output_area)"
      ]
    }
  ],
  "metadata": {
    "accelerator": "GPU",
    "colab": {
      "gpuType": "T4",
      "provenance": [],
      "authorship_tag": "ABX9TyOo2Zf/YK+uafYRAAVT/kW1",
      "include_colab_link": true
    },
    "kernelspec": {
      "display_name": "Python 3",
      "name": "python3"
    },
    "language_info": {
      "name": "python"
    }
  },
  "nbformat": 4,
  "nbformat_minor": 0
}